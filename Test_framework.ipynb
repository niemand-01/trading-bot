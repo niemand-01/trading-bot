{
 "cells": [
  {
   "cell_type": "code",
   "execution_count": 10,
   "id": "bdcd97c7",
   "metadata": {},
   "outputs": [],
   "source": [
    "from trading_bot.agent import Agent\n",
    "from trading_bot.methods import train_model, evaluate_model\n",
    "from trading_bot.utils import (\n",
    "    get_stock_data\n",
    ")"
   ]
  },
  {
   "cell_type": "code",
   "execution_count": 4,
   "id": "3869d208",
   "metadata": {},
   "outputs": [
    {
     "name": "stdout",
     "output_type": "stream",
     "text": [
      "[name: \"/device:CPU:0\"\n",
      "device_type: \"CPU\"\n",
      "memory_limit: 268435456\n",
      "locality {\n",
      "}\n",
      "incarnation: 12427881142145872739\n",
      "xla_global_id: -1\n",
      ", name: \"/device:GPU:0\"\n",
      "device_type: \"GPU\"\n",
      "memory_limit: 5769199616\n",
      "locality {\n",
      "  bus_id: 1\n",
      "  links {\n",
      "  }\n",
      "}\n",
      "incarnation: 1083548880952212735\n",
      "physical_device_desc: \"device: 0, name: NVIDIA GeForce RTX 3060 Ti, pci bus id: 0000:01:00.0, compute capability: 8.6\"\n",
      "xla_global_id: 416903419\n",
      "]\n",
      "Num GPUs Available:  1\n",
      "Num CPUs Available:  1\n"
     ]
    }
   ],
   "source": [
    "# check GPU CPU status from tensorflow\n",
    "from tensorflow.python.client import device_lib\n",
    "print(device_lib.list_local_devices())\n",
    "import tensorflow as tf\n",
    "print(\"Num GPUs Available: \", len(tf.config.list_physical_devices('GPU')))\n",
    "print(\"Num CPUs Available: \", len(tf.config.list_physical_devices('CPU')))\n",
    "\n",
    "# check GPU status from keras\n",
    "from keras import backend as K\n",
    "print(K._get_available_gpus())\n",
    "\n",
    "# check GPU usage in Agent\n",
    "from trading_bot.agent import K\n",
    "print(K._get_available_gpus())"
   ]
  },
  {
   "cell_type": "code",
   "execution_count": 7,
   "id": "1cc1081b",
   "metadata": {},
   "outputs": [],
   "source": [
    "import keras\n",
    "import tensorflow.compat.v1 as tf\n",
    "\n",
    "config = tf.ConfigProto( device_count = {'GPU': 1 , 'CPU': 1} ) \n",
    "sess = tf.Session(config=config)\n",
    "keras.backend.set_session(sess)"
   ]
  },
  {
   "cell_type": "code",
   "execution_count": 8,
   "id": "1112ffa8",
   "metadata": {},
   "outputs": [],
   "source": [
    "# meta data\n",
    "window_size = 10\n",
    "strategy = \"dqn\"\n",
    "pretrained = False\n",
    "model_name = \"model_debug\"\n",
    "train_stock = \"D:\\Python_projects\\DQN-trading-bot\\data\\AAPL.csv\"\n",
    "val_stock = \"D:\\Python_projects\\DQN-trading-bot\\data\\AAPL_2018.csv\"\n",
    "ep_count = 10 #default 50\n",
    "batch_size = 32\n",
    "debug = False"
   ]
  },
  {
   "cell_type": "code",
   "execution_count": 11,
   "id": "5b211469",
   "metadata": {},
   "outputs": [
    {
     "name": "stderr",
     "output_type": "stream",
     "text": [
      "C:\\python3.10\\lib\\site-packages\\keras\\optimizer_v2\\adam.py:105: UserWarning: The `lr` argument is deprecated, use `learning_rate` instead.\n",
      "  super(Adam, self).__init__(name, **kwargs)\n"
     ]
    }
   ],
   "source": [
    "# prepare data and agent\n",
    "agent = Agent(window_size, strategy=strategy, pretrained=pretrained, model_name=model_name)\n",
    "train_data = get_stock_data(train_stock)\n",
    "val_data = get_stock_data(val_stock)\n",
    "initial_offset = val_data[1] - val_data[0]"
   ]
  },
  {
   "cell_type": "code",
   "execution_count": 16,
   "id": "f1fa3e52",
   "metadata": {},
   "outputs": [
    {
     "name": "stderr",
     "output_type": "stream",
     "text": [
      "Episode 1/10: 100%|██████████████████████████████████████████████████████████████| 1760/1760 [1:02:17<00:00,  2.12s/it]\n"
     ]
    },
    {
     "ename": "NameError",
     "evalue": "name 'show_train_result' is not defined",
     "output_type": "error",
     "traceback": [
      "\u001b[1;31m---------------------------------------------------------------------------\u001b[0m",
      "\u001b[1;31mNameError\u001b[0m                                 Traceback (most recent call last)",
      "Input \u001b[1;32mIn [16]\u001b[0m, in \u001b[0;36m<module>\u001b[1;34m\u001b[0m\n\u001b[0;32m      3\u001b[0m train_result \u001b[38;5;241m=\u001b[39m train_model(agent, episode, train_data, ep_count\u001b[38;5;241m=\u001b[39mep_count,\n\u001b[0;32m      4\u001b[0m                            batch_size\u001b[38;5;241m=\u001b[39mbatch_size, window_size\u001b[38;5;241m=\u001b[39mwindow_size)\n\u001b[0;32m      5\u001b[0m val_result, _ \u001b[38;5;241m=\u001b[39m evaluate_model(agent, val_data, window_size, debug)\n\u001b[1;32m----> 6\u001b[0m \u001b[43mshow_train_result\u001b[49m(train_result, val_result, initial_offset)\n",
      "\u001b[1;31mNameError\u001b[0m: name 'show_train_result' is not defined"
     ]
    }
   ],
   "source": [
    "# training\n",
    "for episode in range(1, ep_count + 1):\n",
    "    train_result = train_model(agent, episode, train_data, ep_count=ep_count,\n",
    "                               batch_size=batch_size, window_size=window_size)\n",
    "    val_result, _ = evaluate_model(agent, val_data, window_size, debug)\n",
    "    show_train_result(train_result, val_result, initial_offset)"
   ]
  }
 ],
 "metadata": {
  "kernelspec": {
   "display_name": "Python 3 (ipykernel)",
   "language": "python",
   "name": "python3"
  },
  "language_info": {
   "codemirror_mode": {
    "name": "ipython",
    "version": 3
   },
   "file_extension": ".py",
   "mimetype": "text/x-python",
   "name": "python",
   "nbconvert_exporter": "python",
   "pygments_lexer": "ipython3",
   "version": "3.10.0"
  }
 },
 "nbformat": 4,
 "nbformat_minor": 5
}
